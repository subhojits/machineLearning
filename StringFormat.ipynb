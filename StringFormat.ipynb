{
  "nbformat": 4,
  "nbformat_minor": 0,
  "metadata": {
    "colab": {
      "provenance": [],
      "authorship_tag": "ABX9TyO+vtoShHbKHhCSkeoV+8pV",
      "include_colab_link": true
    },
    "kernelspec": {
      "name": "python3",
      "display_name": "Python 3"
    },
    "language_info": {
      "name": "python"
    }
  },
  "cells": [
    {
      "cell_type": "markdown",
      "metadata": {
        "id": "view-in-github",
        "colab_type": "text"
      },
      "source": [
        "<a href=\"https://colab.research.google.com/github/subhojits/machineLearning/blob/main/StringFormat.ipynb\" target=\"_parent\"><img src=\"https://colab.research.google.com/assets/colab-badge.svg\" alt=\"Open In Colab\"/></a>"
      ]
    },
    {
      "cell_type": "markdown",
      "source": [
        "**String Format Example**"
      ],
      "metadata": {
        "id": "9xkKj92uyjNZ"
      }
    },
    {
      "cell_type": "code",
      "execution_count": 9,
      "metadata": {
        "id": "mYLUsSCTydq2"
      },
      "outputs": [],
      "source": [
        "e = 2.1718281828\n",
        "answer = 42\n",
        "message = 'Hello World'"
      ]
    },
    {
      "cell_type": "code",
      "source": [
        "test1 = \"the value of e is {e:.2f}\".format(e=2.1718281828)\n",
        "test2 = \"all values are {ie}, {answer},{message}\".format(ie=e,answer=answer,message=message)\n",
        "print(test1)\n",
        "print(test2)"
      ],
      "metadata": {
        "colab": {
          "base_uri": "https://localhost:8080/"
        },
        "id": "qgjGFrRxy7_e",
        "outputId": "8c743e15-401c-42da-c28c-37197037c79c"
      },
      "execution_count": 16,
      "outputs": [
        {
          "output_type": "stream",
          "name": "stdout",
          "text": [
            "the value of e is 2.17\n",
            "all values are 2.1718281828, 42,Hello World\n"
          ]
        }
      ]
    },
    {
      "cell_type": "code",
      "source": [
        "test3 = f\"doing Interpolation {e}\"\n",
        "test3"
      ],
      "metadata": {
        "colab": {
          "base_uri": "https://localhost:8080/",
          "height": 36
        },
        "id": "P2d78TXV2Jni",
        "outputId": "0e2646de-c28e-4236-f759-52dbfcd07df7"
      },
      "execution_count": 17,
      "outputs": [
        {
          "output_type": "execute_result",
          "data": {
            "text/plain": [
              "'doing Interpolation 2.1718281828'"
            ],
            "application/vnd.google.colaboratory.intrinsic+json": {
              "type": "string"
            }
          },
          "metadata": {},
          "execution_count": 17
        }
      ]
    },
    {
      "cell_type": "code",
      "source": [
        "test4 = \"the answer %d and finally %s\" %( answer, message)\n",
        "test4"
      ],
      "metadata": {
        "colab": {
          "base_uri": "https://localhost:8080/",
          "height": 36
        },
        "id": "reiopzTU3cNV",
        "outputId": "2a652929-fa73-4a43-a9a0-4409b1d5261c"
      },
      "execution_count": 23,
      "outputs": [
        {
          "output_type": "execute_result",
          "data": {
            "text/plain": [
              "'the answer 42 and finally Hello World'"
            ],
            "application/vnd.google.colaboratory.intrinsic+json": {
              "type": "string"
            }
          },
          "metadata": {},
          "execution_count": 23
        }
      ]
    }
  ]
}