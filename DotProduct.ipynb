{
  "nbformat": 4,
  "nbformat_minor": 0,
  "metadata": {
    "colab": {
      "provenance": [],
      "authorship_tag": "ABX9TyOsqfTIknE3tQV7LU7EjkU7",
      "include_colab_link": true
    },
    "kernelspec": {
      "name": "python3",
      "display_name": "Python 3"
    },
    "language_info": {
      "name": "python"
    }
  },
  "cells": [
    {
      "cell_type": "markdown",
      "metadata": {
        "id": "view-in-github",
        "colab_type": "text"
      },
      "source": [
        "<a href=\"https://colab.research.google.com/github/subhojits/machineLearning/blob/main/DotProduct.ipynb\" target=\"_parent\"><img src=\"https://colab.research.google.com/assets/colab-badge.svg\" alt=\"Open In Colab\"/></a>"
      ]
    },
    {
      "cell_type": "code",
      "execution_count": 2,
      "metadata": {
        "id": "hoO1Ilsv6uNz"
      },
      "outputs": [],
      "source": [
        "vector_a = [1, 2, 3]\n",
        "vector_b = [2, 2, 2]"
      ]
    },
    {
      "cell_type": "code",
      "source": [
        "total_val = 0.00\n",
        "for i in range(len(vector_a)):\n",
        "  total_val = total_val + (vector_a[i] * vector_b[i])\n",
        "print(\"%.2f\"%( total_val))\n"
      ],
      "metadata": {
        "colab": {
          "base_uri": "https://localhost:8080/"
        },
        "id": "ed_pt0vO7KXQ",
        "outputId": "cde41554-26d9-4a2e-9a36-10a62fd63ba0"
      },
      "execution_count": 4,
      "outputs": [
        {
          "output_type": "stream",
          "name": "stdout",
          "text": [
            "12.00\n"
          ]
        }
      ]
    }
  ]
}